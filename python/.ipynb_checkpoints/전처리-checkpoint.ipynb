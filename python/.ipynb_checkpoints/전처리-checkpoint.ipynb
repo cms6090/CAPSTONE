{
 "cells": [
  {
   "cell_type": "code",
   "execution_count": 7,
   "metadata": {},
   "outputs": [],
   "source": [
    "import pandas as pd\n",
    "import numpy as np\n",
    "import random"
   ]
  },
  {
   "cell_type": "markdown",
   "metadata": {},
   "source": [
    "### hotel_after 전처리 코드"
   ]
  },
  {
   "cell_type": "code",
   "execution_count": 6,
   "metadata": {},
   "outputs": [
    {
     "name": "stdout",
     "output_type": "stream",
     "text": [
      "최소 요금이 업데이트된 hotel_after_updated.csv 파일이 생성되었습니다.\n"
     ]
    }
   ],
   "source": [
    "# CSV 파일 읽기\n",
    "room_df = pd.read_csv('../data/room.csv', encoding='utf-8-sig')\n",
    "hotel_after_df = pd.read_csv('../data/hotel_after.csv', encoding='utf-8-sig')\n",
    "\n",
    "# offseasonminnfee의 가장 작은 값을 찾기 위해 contentid로 그룹화\n",
    "min_fees = room_df.groupby('contentid')['offseasonminnfee'].min().reset_index()\n",
    "\n",
    "# min_fees 데이터프레임의 컬럼 이름 변경\n",
    "min_fees.rename(columns={'offseasonminnfee': 'minfee'}, inplace=True)\n",
    "\n",
    "# hotel_after_df와 min_fees 데이터프레임을 contentid 기준으로 병합\n",
    "merged_df = hotel_after_df.merge(min_fees, on='contentid', how='left')\n",
    "\n",
    "# minfee 값을 업데이트\n",
    "hotel_after_df['minfee'] = merged_df['minfee']\n",
    "\n",
    "# 업데이트된 hotel_after_df를 새로운 CSV 파일로 저장\n",
    "hotel_after_df.to_csv('../data/hotel_after_updated.csv', index=False, encoding='utf-8-sig')\n",
    "\n",
    "print(\"최소 요금이 업데이트된 hotel_after_updated.csv 파일이 생성되었습니다.\")\n"
   ]
  },
  {
   "cell_type": "markdown",
   "metadata": {},
   "source": [
    "### room 전처리 코드"
   ]
  },
  {
   "cell_type": "code",
   "execution_count": 25,
   "metadata": {},
   "outputs": [
    {
     "name": "stderr",
     "output_type": "stream",
     "text": [
      "C:\\Users\\cho03\\AppData\\Local\\Temp\\ipykernel_4436\\3286293353.py:43: FutureWarning: Setting an item of incompatible dtype is deprecated and will raise an error in a future version of pandas. Value '39690' has dtype incompatible with float64, please explicitly cast to a compatible dtype first.\n",
      "  df.at[index, 'roomcode'] = new_roomcode  # 새로운 roomcode를 데이터프레임에 추가\n"
     ]
    }
   ],
   "source": [
    "import pandas as pd\n",
    "import numpy as np\n",
    "import random\n",
    "\n",
    "# CSV 파일 읽기\n",
    "df = pd.read_csv('../data/room_detail_raw.csv')\n",
    "\n",
    "# 열 이름 변경\n",
    "df.rename(columns={\n",
    "    'availablecount': 'available_count',\n",
    "    'roombasecount': 'base_person',\n",
    "    'roommaxcount': 'max_person',\n",
    "    'roomoffseasonminfee1': 'offseasonminfee',\n",
    "    'roomoffseasonminfee2': 'offseasonmaxfee',\n",
    "    'roompeakseasonminfee1': 'peakseasonminfee',\n",
    "    'roompeakseasonminfee2': 'peakseasonmaxfee',\n",
    "    'roomimg1alt': 'roomimg1_alt',\n",
    "    'roomimg2alt': 'roomimg2_alt',\n",
    "    'roomimg3alt': 'roomimg3_alt'\n",
    "}, inplace=True)\n",
    "\n",
    "# 중복 행 제거\n",
    "df = df.drop_duplicates(subset=['contentid', 'roomcode'])\n",
    "\n",
    "# roomcount 값 처리\n",
    "df['roomcount'] = np.where(df['roomcount'] == 0, np.random.randint(0, 20, size=len(df)), df['roomcount'])\n",
    "\n",
    "\n",
    "# 이미 존재하는 roomcode와 contentid 목록 생성\n",
    "existing_roomcodes = set(df['roomcode'].dropna().unique())\n",
    "existing_contentids = set(df['contentid'].dropna().unique())\n",
    "\n",
    "# roomcode가 비어있는 경우 처리\n",
    "for index, row in df.iterrows():\n",
    "    if pd.isnull(row['roomcode']) or row['roomcode'] == '':\n",
    "        while True:\n",
    "            # 5~6자리 숫자 랜덤 roomcode 생성\n",
    "            length = random.randint(5, 6)\n",
    "            new_roomcode = ''.join(random.choices('0123456789', k=length))\n",
    "            \n",
    "            # 새 roomcode가 기존 roomcode와 contentid에 없는지 확인\n",
    "            if new_roomcode not in existing_roomcodes and new_roomcode not in existing_contentids:\n",
    "                df.at[index, 'roomcode'] = new_roomcode  # 새로운 roomcode를 데이터프레임에 추가\n",
    "                existing_roomcodes.add(new_roomcode)  # 새 roomcode를 기존 목록에 추가\n",
    "                break  # 중복되지 않으면 루프 종료\n",
    "\n",
    "df['roomcode'] = df['roomcode'].astype(int)\n",
    "\n",
    "# available_count 계산\n",
    "df['available_count'] = np.where(df['roomcount'] > 0, df['roomcount'] - np.random.randint(0, df['roomcount'] + 1, size=len(df)), 0)\n",
    "\n",
    "# 기본 인원 수 및 최대 인원 수 처리\n",
    "df['base_person'] = np.where(df['base_person'] == 0, np.random.randint(0, 25, size=len(df)), df['base_person'])\n",
    "df['max_person'] = df['base_person'] + np.random.randint(0, 6, size=len(df))\n",
    "\n",
    "# 요금 처리\n",
    "df['offseasonminfee'] = np.where(df['offseasonminfee'] == 0, np.random.randint(200, 1000, size=len(df)) * 100, df['offseasonminfee'])\n",
    "df['offseasonmaxfee'] = np.where((df['offseasonmaxfee'].isnull()) | (df['offseasonmaxfee'] == 0) | (df['offseasonmaxfee'] <= df['offseasonminfee']), df['offseasonminfee'] + np.random.randint(5, 50, size=len(df)) * 1000, df['offseasonmaxfee'])\n",
    "df['peakseasonminfee'] = np.where((df['peakseasonminfee'].isnull()) | (df['peakseasonminfee'] == 0) | (df['peakseasonminfee'] <= df['offseasonminfee']), df['offseasonminfee'] + np.random.randint(5, 50, size=len(df)) * 1000, df['peakseasonminfee'])\n",
    "df['peakseasonmaxfee'] = np.where((df['peakseasonmaxfee'].isnull()) | (df['peakseasonmaxfee'] == 0) | (df['peakseasonmaxfee'] <= df['peakseasonminfee']), df['peakseasonminfee'] + np.random.randint(5, 50, size=len(df)) * 1000, df['peakseasonmaxfee'])\n",
    "\n",
    "# 불필요한 열 삭제\n",
    "drop_columns = ['contenttypeid', 'roomsize1', 'roomintro', 'cpyrhtDivCd1', 'cpyrhtDivCd2', 'cpyrhtDivCd3', 'roomimg4', 'roomimg4alt', 'cpyrhtDivCd4', 'roomimg5', 'roomimg5alt', 'cpyrhtDivCd5', 'roomsize2']\n",
    "df = df.drop(columns=drop_columns)\n",
    "\n",
    "# 결측값 처리\n",
    "df.fillna('', inplace=True)\n",
    "\n",
    "# 열 순서 변경\n",
    "new_order = [\n",
    "    'contentid', 'roomcode', 'roomtitle', 'roomcount', 'available_count',\n",
    "    'base_person', 'max_person', 'offseasonminfee', 'offseasonmaxfee',\n",
    "    'peakseasonminfee', 'peakseasonmaxfee', 'roombathfacility', 'roombath',\n",
    "    'roomhometheater', 'roomaircondition', 'roomtv', 'roompc', 'roomcable',\n",
    "    'roominternet', 'roomrefrigerator', 'roomtoiletries', 'roomsofa',\n",
    "    'roomcook', 'roomtable', 'roomhairdryer', 'roomimg1', 'roomimg1_alt',\n",
    "    'roomimg2', 'roomimg2_alt', 'roomimg3', 'roomimg3_alt'\n",
    "]\n",
    "\n",
    "# 데이터프레임의 열 순서 변경\n",
    "df = df[new_order]\n",
    "\n",
    "# 최종 데이터프레임을 CSV로 저장\n",
    "df.to_csv('../data/room.csv', index=False, encoding='utf-8-sig')\n"
   ]
  },
  {
   "cell_type": "code",
   "execution_count": null,
   "metadata": {},
   "outputs": [],
   "source": []
  },
  {
   "cell_type": "code",
   "execution_count": null,
   "metadata": {},
   "outputs": [],
   "source": []
  }
 ],
 "metadata": {
  "kernelspec": {
   "display_name": "trip",
   "language": "python",
   "name": "python3"
  },
  "language_info": {
   "codemirror_mode": {
    "name": "ipython",
    "version": 3
   },
   "file_extension": ".py",
   "mimetype": "text/x-python",
   "name": "python",
   "nbconvert_exporter": "python",
   "pygments_lexer": "ipython3",
   "version": "3.12.6"
  }
 },
 "nbformat": 4,
 "nbformat_minor": 2
}
